{
 "cells": [
  {
   "cell_type": "code",
   "execution_count": 1,
   "id": "5c8eee95-e21d-4a69-9157-8c2b3b473bfd",
   "metadata": {},
   "outputs": [
    {
     "name": "stderr",
     "output_type": "stream",
     "text": [
      "Processing fall_down: 100%|██████████████████████████████████████████████████████████| 710/710 [01:17<00:00,  9.16it/s]\n",
      "Processing not_fallen: 100%|█████████████████████████████████████████████████████████| 492/492 [00:59<00:00,  8.26it/s]\n"
     ]
    },
    {
     "name": "stdout",
     "output_type": "stream",
     "text": [
      "Epoch 1/15\n",
      "26/26 [==============================] - 2s 36ms/step - loss: 0.4507 - accuracy: 0.7697 - val_loss: 0.3203 - val_accuracy: 0.8725\n",
      "Epoch 2/15\n",
      "26/26 [==============================] - 1s 21ms/step - loss: 0.2672 - accuracy: 0.8990 - val_loss: 0.3067 - val_accuracy: 0.8676\n",
      "Epoch 3/15\n",
      "26/26 [==============================] - 1s 22ms/step - loss: 0.2521 - accuracy: 0.9064 - val_loss: 0.3251 - val_accuracy: 0.8676\n",
      "Epoch 4/15\n",
      "26/26 [==============================] - 1s 23ms/step - loss: 0.2313 - accuracy: 0.9224 - val_loss: 0.3469 - val_accuracy: 0.8676\n",
      "Epoch 5/15\n",
      "26/26 [==============================] - 1s 20ms/step - loss: 0.2744 - accuracy: 0.9076 - val_loss: 0.3172 - val_accuracy: 0.8725\n",
      "Epoch 6/15\n",
      "26/26 [==============================] - 1s 19ms/step - loss: 0.2166 - accuracy: 0.9187 - val_loss: 0.3127 - val_accuracy: 0.8922\n",
      "Epoch 7/15\n",
      "26/26 [==============================] - 1s 20ms/step - loss: 0.2187 - accuracy: 0.9187 - val_loss: 0.3101 - val_accuracy: 0.8873\n",
      "Epoch 8/15\n",
      "26/26 [==============================] - 1s 19ms/step - loss: 0.2082 - accuracy: 0.9212 - val_loss: 0.3472 - val_accuracy: 0.8775\n",
      "Epoch 9/15\n",
      "26/26 [==============================] - 1s 19ms/step - loss: 0.2096 - accuracy: 0.9286 - val_loss: 0.3033 - val_accuracy: 0.8775\n",
      "Epoch 10/15\n",
      "26/26 [==============================] - 1s 20ms/step - loss: 0.1986 - accuracy: 0.9298 - val_loss: 0.3032 - val_accuracy: 0.8922\n",
      "Epoch 11/15\n",
      "26/26 [==============================] - 1s 19ms/step - loss: 0.1977 - accuracy: 0.9298 - val_loss: 0.2942 - val_accuracy: 0.8922\n",
      "Epoch 12/15\n",
      "26/26 [==============================] - 1s 19ms/step - loss: 0.1923 - accuracy: 0.9323 - val_loss: 0.2922 - val_accuracy: 0.8922\n",
      "Epoch 13/15\n",
      "26/26 [==============================] - 1s 20ms/step - loss: 0.1739 - accuracy: 0.9384 - val_loss: 0.2878 - val_accuracy: 0.8824\n",
      "Epoch 14/15\n",
      "26/26 [==============================] - 1s 19ms/step - loss: 0.1684 - accuracy: 0.9470 - val_loss: 0.2902 - val_accuracy: 0.8922\n",
      "Epoch 15/15\n",
      "26/26 [==============================] - 1s 22ms/step - loss: 0.1693 - accuracy: 0.9360 - val_loss: 0.2672 - val_accuracy: 0.9020\n"
     ]
    },
    {
     "data": {
      "text/plain": [
       "<keras.callbacks.History at 0x243ab9f8710>"
      ]
     },
     "execution_count": 1,
     "metadata": {},
     "output_type": "execute_result"
    }
   ],
   "source": [
    "import os\n",
    "import cv2\n",
    "import numpy as np\n",
    "import mediapipe as mp\n",
    "import tensorflow as tf\n",
    "from tensorflow.keras.models import Sequential\n",
    "from tensorflow.keras.layers import Conv1D, Flatten, Dense, Dropout\n",
    "from sklearn.model_selection import train_test_split\n",
    "from tqdm import tqdm\n",
    "\n",
    "# Setup MediaPipe Pose\n",
    "mp_pose = mp.solutions.pose\n",
    "pose = mp_pose.Pose(static_image_mode=True)  # Since we're working with images\n",
    "\n",
    "# Dataset path\n",
    "dataset_dir = \"dataset\"\n",
    "classes = [\"fall_down\", \"not_fallen\"]\n",
    "\n",
    "# Store landmarks and labels\n",
    "X_data = []\n",
    "y_data = []\n",
    "\n",
    "# Loop through classes and images\n",
    "for label, class_name in enumerate(classes):\n",
    "    class_dir = os.path.join(dataset_dir, class_name)\n",
    "    for img_name in tqdm(os.listdir(class_dir), desc=f\"Processing {class_name}\"):\n",
    "        img_path = os.path.join(class_dir, img_name)\n",
    "        image = cv2.imread(img_path)\n",
    "\n",
    "        if image is None:\n",
    "            continue\n",
    "\n",
    "        image_rgb = cv2.cvtColor(image, cv2.COLOR_BGR2RGB)\n",
    "        results = pose.process(image_rgb)\n",
    "\n",
    "        if results.pose_landmarks:\n",
    "            landmarks = []\n",
    "            for lm in results.pose_landmarks.landmark:\n",
    "                landmarks.extend([lm.x, lm.y, lm.z])  # 33 landmarks × 3 = 99\n",
    "            X_data.append(landmarks)\n",
    "            y_data.append(label)\n",
    "\n",
    "# Convert to NumPy arrays\n",
    "X = np.array(X_data)\n",
    "y = np.array(y_data)\n",
    "\n",
    "# Train-test split\n",
    "x_train, x_test, y_train, y_test = train_test_split(X, y, test_size=0.2, random_state=42)\n",
    "\n",
    "# Reshape for Conv1D\n",
    "x_train = x_train.reshape(x_train.shape[0], 99, 1)\n",
    "x_test = x_test.reshape(x_test.shape[0], 99, 1)\n",
    "\n",
    "# CNN model for classification\n",
    "model = Sequential()\n",
    "model.add(Conv1D(64, kernel_size=3, activation='relu', input_shape=(99, 1)))\n",
    "model.add(Flatten())\n",
    "model.add(Dense(128, activation='relu'))\n",
    "model.add(Dropout(0.3))\n",
    "model.add(Dense(1, activation='sigmoid'))  # Binary output\n",
    "\n",
    "# Compile model\n",
    "model.compile(optimizer='adam', loss='binary_crossentropy', metrics=['accuracy'])\n",
    "\n",
    "# Train model\n",
    "model.fit(x_train, y_train, epochs=15, batch_size=32, validation_data=(x_test, y_test))\n"
   ]
  },
  {
   "cell_type": "code",
   "execution_count": 2,
   "id": "ff116507-d2e4-4ce4-8e00-3355b223755a",
   "metadata": {},
   "outputs": [],
   "source": [
    "# Save the trained model\n",
    "model.save(\"falldown_pose_model.h5\")"
   ]
  },
  {
   "cell_type": "code",
   "execution_count": 3,
   "id": "45090289-f148-43e9-b6bc-38eee0f052db",
   "metadata": {},
   "outputs": [],
   "source": [
    "from tensorflow.keras.models import load_model\n",
    "model = load_model(\"falldown_pose_model.h5\")"
   ]
  },
  {
   "cell_type": "code",
   "execution_count": 4,
   "id": "36f0ff7c-374c-4fce-bd95-b9b78da800a1",
   "metadata": {},
   "outputs": [
    {
     "name": "stdout",
     "output_type": "stream",
     "text": [
      "7/7 [==============================] - 0s 6ms/step - loss: 0.2672 - accuracy: 0.9020\n",
      "Test Loss: 0.2672\n",
      "Test Accuracy: 0.9020\n"
     ]
    }
   ],
   "source": [
    "# Evaluate on test data\n",
    "loss, accuracy = model.evaluate(x_test, y_test, verbose=1)\n",
    "print(f\"Test Loss: {loss:.4f}\")\n",
    "print(f\"Test Accuracy: {accuracy:.4f}\")"
   ]
  },
  {
   "cell_type": "code",
   "execution_count": null,
   "id": "692caa15-047f-48a6-850e-23aa1f70e824",
   "metadata": {},
   "outputs": [],
   "source": []
  }
 ],
 "metadata": {
  "kernelspec": {
   "display_name": "Python 3 (ipykernel)",
   "language": "python",
   "name": "python3"
  },
  "language_info": {
   "codemirror_mode": {
    "name": "ipython",
    "version": 3
   },
   "file_extension": ".py",
   "mimetype": "text/x-python",
   "name": "python",
   "nbconvert_exporter": "python",
   "pygments_lexer": "ipython3",
   "version": "3.11.5"
  }
 },
 "nbformat": 4,
 "nbformat_minor": 5
}
